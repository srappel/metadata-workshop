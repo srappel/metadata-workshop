{
 "cells": [
  {
   "cell_type": "markdown",
   "id": "1b44daa6",
   "metadata": {},
   "source": [
    "## Step 1. Import Modules"
   ]
  },
  {
   "cell_type": "code",
   "execution_count": 16,
   "id": "819d91b3",
   "metadata": {},
   "outputs": [],
   "source": [
    "import pandas as pd\n",
    "import json\n",
    "import csv\n",
    "import os\n",
    "from pathlib import Path\n",
    "import pathlib"
   ]
  },
  {
   "cell_type": "code",
   "execution_count": 25,
   "id": "156bdc8b",
   "metadata": {},
   "outputs": [
    {
     "name": "stdout",
     "output_type": "stream",
     "text": [
      "gmgs08kprtr: Cuba_EconomicCensusProvincias_2002\n",
      "gmgs2280gkb: Cuba_MigrationCensusMunicipios_2012\n",
      "gmgs31zcrwp: Cuba_SocialCensusMunicipios_2002\n",
      "gmgs41ns26f: Cuba_DemographicCensusMunicipios_2002\n",
      "gmgs5tb2rzn: Cuba_MigrationCensusProvincias_2012\n",
      "gmgs6t1g28d: Cuba_SocialCensusProvincias_2002\n",
      "gmgs7pvmdpm: Cuba_DemographicCensusProvincias_2002\n",
      "gmgs9kd52bb: Cuba_HousingCensusMunicipios_2012\n",
      "gmgsbg79drz: Cuba_MigrationCensusMunicipios_2002\n",
      "gmgscfxpq18: Cuba_Census_2012\n",
      "gmgsf7m0dtw: Cuba_HousingCensusProvincias_2012\n",
      "gmgsg79cq3m: Cuba_MigrationCensusProvincias_2002\n",
      "gmgsh70s0dv: Cuba_Census_2002\n",
      "gmgsk0p2q5j: Cuba_EconomicCensusMunicipios_2012\n",
      "gmgsm0cg0gs: Cuba_HousingCensusMunicipios_2002\n",
      "gmgsn02v8sj: Cuba_Census_2012_Collection\n",
      "gmgsprr50jb: Cuba_EconomicCensusProvincias_2012\n",
      "gmgsqrfj8v3: Cuba_HousingCensusProvincias_2002\n",
      "gmgsrr4xk5c: Cuba_Census_2002_Collection\n",
      "gmgssj3v0m7: Cuba_SocialCensusMunicipios_2012\n",
      "gmgstht78x1: Cuba_DemographicCensusMunicipios_2012\n",
      "gmgsvhhmk79: Cuba_EconomicCensusMunicipios_2002\n",
      "gmgsx95x90f: Cuba_SocialCensusProvincias_2012\n",
      "gmgsz8w9k97: Cuba_DemographicCensusProvincias_2012\n"
     ]
    }
   ],
   "source": [
    "csv_file_path = 'Cuba-Census-csv.csv'  # the name of your CSV\n",
    "\n",
    "# Load the CSV data\n",
    "csv_data = pd.read_csv(csv_file_path)\n",
    "\n",
    "# List to store pairs of (idpart, alttitlepart)\n",
    "idpart_alttitle_list = []\n",
    "\n",
    "for index, row in csv_data.iterrows():\n",
    "    idpart = row['ID'].split('-')[-1]\n",
    "    alttitlepart = row['AltTitle']\n",
    "    newdirpath = Path(f'./output/{idpart}/')\n",
    "    newdirpath.mkdir(parents=True, exist_ok=True)\n",
    "\n",
    "    containerpath = newdirpath / alttitlepart\n",
    "    containerpath.mkdir(parents=True, exist_ok=True)\n",
    "    \n",
    "    # Append the pair to the list\n",
    "    idpart_alttitle_list.append((idpart, alttitlepart))\n",
    "\n",
    "# Sort the list by idpart\n",
    "idpart_alttitle_list.sort(key=lambda x: x[0])\n",
    "\n",
    "# Optional: Display or save the sorted list\n",
    "for idpart, alttitlepart in idpart_alttitle_list:\n",
    "    print(f'{idpart}: {alttitlepart}')"
   ]
  },
  {
   "cell_type": "code",
   "execution_count": null,
   "id": "567ffd59",
   "metadata": {},
   "outputs": [],
   "source": []
  }
 ],
 "metadata": {
  "kernelspec": {
   "display_name": ".venv",
   "language": "python",
   "name": "python3"
  },
  "language_info": {
   "codemirror_mode": {
    "name": "ipython",
    "version": 3
   },
   "file_extension": ".py",
   "mimetype": "text/x-python",
   "name": "python",
   "nbconvert_exporter": "python",
   "pygments_lexer": "ipython3",
   "version": "3.11.4"
  }
 },
 "nbformat": 4,
 "nbformat_minor": 5
}
